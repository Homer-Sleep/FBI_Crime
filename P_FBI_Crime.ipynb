{
 "cells": [
  {
   "cell_type": "code",
   "execution_count": 10,
   "metadata": {},
   "outputs": [],
   "source": [
    "import pandas as pd\n",
    "import numpy as np\n",
    "import statsmodels.api as sm\n",
    "import statsmodels.formula.api as smf\n",
    "import plotnine as pn \n",
    "import os\n",
    "import wget"
   ]
  },
  {
   "cell_type": "markdown",
   "metadata": {},
   "source": [
    "Download FBI crime data"
   ]
  },
  {
   "cell_type": "code",
   "execution_count": 11,
   "metadata": {},
   "outputs": [
    {
     "name": "stdout",
     "output_type": "stream",
     "text": [
      "c:/Users/David Ryan/Desktop/Dave/R_Projects/FBI_Crime/2009_2010.xls\n",
      "valid\n",
      "c:/Users/David Ryan/Desktop/Dave/R_Projects/FBI_Crime/2011_2012.xls\n",
      "valid\n",
      "c:/Users/David Ryan/Desktop/Dave/R_Projects/FBI_Crime/2013_2014.xls\n",
      "valid\n",
      "c:/Users/David Ryan/Desktop/Dave/R_Projects/FBI_Crime/2015_2016.xls\n",
      "valid\n",
      "c:/Users/David Ryan/Desktop/Dave/R_Projects/FBI_Crime/2017_2018.xls\n",
      "valid\n",
      "c:/Users/David Ryan/Desktop/Dave/R_Projects/FBI_Crime/2019.xls\n",
      "valid\n"
     ]
    }
   ],
   "source": [
    "# each xls sheet has that year and the previous year. Download 2010, 2012, 2014, 2016. 2018, 2019\n",
    "urls = ['https://ucr.fbi.gov/crime-in-the-u.s/2010/crime-in-the-u.s.-2010/tables/10tbl04.xls/output.xls',\n",
    "'https://ucr.fbi.gov/crime-in-the-u.s/2012/crime-in-the-u.s.-2012/tables/4tabledatadecoverviewpdf/table_4_crime_in_the_united_states_by_region_geographic_division_and_state_2011-2012.xls/output.xls',\n",
    "'https://ucr.fbi.gov/crime-in-the-u.s/2014/crime-in-the-u.s.-2014/tables/table-4/table_4_crime_in_the_united_states_by_region_geographic_division_and_state_2013-2014.xls/output.xls',\n",
    "'https://ucr.fbi.gov/crime-in-the-u.s/2016/crime-in-the-u.s.-2016/tables/table-2/table-2.xls/output.xls',\n",
    "'https://ucr.fbi.gov/crime-in-the-u.s/2018/crime-in-the-u.s.-2018/tables/table-4/table-4.xls/output.xls',\n",
    "'https://ucr.fbi.gov/crime-in-the-u.s/2019/crime-in-the-u.s.-2019/tables/table-4/table-4.xls/output.xls']\n",
    "\n",
    "# name of each xls sheet\n",
    "Crime_datasets = ['2009_2010.xls', '2011_2012.xls', '2013_2014.xls', '2015_2016.xls', '2017_2018.xls', '2019.xls']\n",
    "# get working dir and change back slash to forward slash\n",
    "cwd = os.getcwd()\n",
    "cwd = cwd.replace(os.sep, '/')\n",
    "\n",
    "for i in range(0, len(Crime_datasets)):\n",
    "  print(cwd + \"/\" +Crime_datasets[i])\n",
    "  if os.path.exists(cwd + \"/\" + Crime_datasets[i]):\n",
    "    print('valid')\n",
    "  else:\n",
    "    print('Download the FBI crime dataset for ' + Crime_datasets[i])\n",
    "    print('Dataset is not longer at '+ urls[i])\n",
    "      # requested = wget.download(urls[i], Crime_datasets[i])\n"
   ]
  },
  {
   "cell_type": "markdown",
   "metadata": {},
   "source": [
    "Merge FBI data across years and standardize column names"
   ]
  },
  {
   "cell_type": "code",
   "execution_count": 15,
   "metadata": {},
   "outputs": [],
   "source": [
    "for i in range(0,len(Crime_datasets)):\n",
    "  Crime_raw = pd.DataFrame()\n",
    "  Crime_raw = pd.DataFrame(pd.read_excel(Crime_datasets[i], skiprows= 2))\n",
    "  Crime_raw \n",
    "\n",
    "# for (i in seq_along(Crime.datasets)) {\n",
    "\n",
    "#   Crime.raw = NULL\n",
    "#   Crime.raw = data.table(read_excel(Crime.datasets[i], skip = 3)) # read into data.table\n",
    "#   # remove empty columns\n",
    "#   Crime.raw = Crime.raw[,which(unlist(lapply(Crime.raw, function(x)!all(is.na(x))))),with=F]\n",
    "  \n",
    "#   # rename cols to be the same across data sets\n",
    "  \n",
    "#   pop.fix = startsWith(colnames(Crime.raw), prefix = 'Pop')\n",
    "#   setnames(Crime.raw, colnames(Crime.raw[,..pop.fix]), 'Population')\n",
    "  \n",
    "#   pop.fix = startsWith(colnames(Crime.raw), prefix = 'Murder')\n",
    "#   setnames(Crime.raw, colnames(Crime.raw[,..pop.fix]), 'Murder')\n",
    "  \n",
    "#   pop.fix = startsWith(colnames(Crime.raw), prefix = 'Violent')\n",
    "#   setnames(Crime.raw, colnames(Crime.raw[,..pop.fix]), 'Violent.Crime')\n",
    "  \n",
    "#   pop.fix = endsWith(colnames(Crime.raw), suffix = '(revised definition)4')\n",
    "#   if(sum(pop.fix) == 1){setnames(Crime.raw, colnames(Crime.raw[,..pop.fix]), 'Revised_Rape')}\n",
    "  \n",
    "#   pop.fix = endsWith(colnames(Crime.raw), suffix = '(legacy definition)5')\n",
    "#   if(sum(pop.fix) == 1){setnames(Crime.raw, colnames(Crime.raw[,..pop.fix]), 'Rape')}\n",
    "    \n",
    "#   pop.fix = startsWith(colnames(Crime.raw), prefix = 'Forcible')\n",
    "#   if(sum(pop.fix) == 1){setnames(Crime.raw, colnames(Crime.raw[,..pop.fix]), 'Rape')}\n",
    "  \n",
    "  \n",
    "#   #rename columns leading with '..#'\n",
    "#   # find col with Name\n",
    "#   col.names = colnames(Crime.raw)\n",
    "#   for (col.i in seq_along(col.names)) {\n",
    "#     if (startsWith(col.names[col.i], prefix = '..')){ # rename cols that start with '..' to _Per100k'\n",
    "#       col.names[col.i] = paste0(col.names[col.i -1], '_Per100k')\n",
    "#       }\n",
    "#     }\n",
    "#   setnames(Crime.raw, names(Crime.raw),  col.names) # rename \n",
    "  \n",
    "#   # remove extra cols if any\n",
    "#   rm.col=  !endsWith(colnames(Crime.raw), suffix = '_Per100k_Per100k') # extra cols will have extra per100k\n",
    "#   Crime.raw = Crime.raw[,..rm.col]# remove cols\n",
    "  \n",
    "#   #remove cols of raw numbers, leave per100k for comparisons across states\n",
    "#   rm.col = endsWith(colnames(Crime.raw), suffix = '_Per100k')\n",
    "#   rm.col[1:3] = TRUE # keep first 3 rows of Area, year and population \n",
    "#   Crime.raw = Crime.raw[,..rm.col]\n",
    "#   # Remove numbers  and comma from Area\n",
    "#   Crime.raw$Area = gsub('[0-9]', '', Crime.raw$Area)\n",
    "#   Crime.raw$Area = gsub(',', '', Crime.raw$Area)\n",
    "\n",
    "#   # edit rows:\n",
    "#   Crime.raw = Crime.raw[Year != 'Percent change']# remove percent change rows\n",
    "  \n",
    "#   # If Area name is NA, rename it to row above\n",
    "#   for (ii in 1:Crime.raw[,.N]) {\n",
    "#       if (is.na(Crime.raw[ii, 1])){\n",
    "#       Crime.raw[ii, 1] = Crime.raw[ii-1, 1]\n",
    "#     }\n",
    "#   }\n",
    "#     two.years = unique(Crime.raw$Year)\n",
    "#   if (two.years[1] == '2018'){\n",
    "#     Crime.raw = Crime.raw[Year == '2019']\n",
    "#   }    \n",
    "\n",
    "#   # change to numeric\n",
    "#   Crime.raw[,2:ncol(Crime.raw)] = as.data.table(sapply(Crime.raw[,2:ncol(Crime.raw)], as.numeric))\n",
    "  \n",
    "#   # Round each col,\n",
    "#     Crime.raw %>% mutate_if(is.numeric, ~round(., digit = 2))  \n",
    "#   # Make List by year\n",
    "#   # Year.crime[[two.years[1]]] = Crime.raw[Year == two.years[1]]\n",
    "#   # Year.crime[[two.years[2]]] = Crime.raw[Year == two.years[2]]\n",
    "  \n",
    "#   if (i ==1){\n",
    "#     Crime = Crime.raw\n",
    "#   }else{\n",
    "#     if(sum(colnames(Crime.raw) == 'Rape_Per100k') == 0){\n",
    "#        Crime = merge.data.table(Crime, Crime.raw, by = colnames(Crime.raw), all = TRUE)\n",
    "#     }else{\n",
    "#     Crime = merge.data.table(Crime, Crime.raw, by = colnames(Crime), all = TRUE)\n",
    "#     setdiff (colnames(Crime), colnames(Crime.raw))\n",
    "#     setdiff (colnames(Crime.raw), colnames(Crime))\n",
    "#     }\n",
    "#   }\n",
    "#  }\n",
    "\n",
    "# rm(Crime.raw)\n"
   ]
  }
 ],
 "metadata": {
  "interpreter": {
   "hash": "37704df8535475c2c6054d42712b99d9f7dd45a144661de1627a38f8013335cf"
  },
  "kernelspec": {
   "display_name": "Python 3.10.2 64-bit",
   "language": "python",
   "name": "python3"
  },
  "language_info": {
   "codemirror_mode": {
    "name": "ipython",
    "version": 3
   },
   "file_extension": ".py",
   "mimetype": "text/x-python",
   "name": "python",
   "nbconvert_exporter": "python",
   "pygments_lexer": "ipython3",
   "version": "3.10.2"
  },
  "orig_nbformat": 4
 },
 "nbformat": 4,
 "nbformat_minor": 2
}
