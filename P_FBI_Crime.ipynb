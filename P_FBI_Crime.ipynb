{
 "cells": [
  {
   "cell_type": "code",
   "execution_count": 14,
   "metadata": {},
   "outputs": [],
   "source": [
    "import pandas as pd\n",
    "import numpy as np\n",
    "import statsmodels.api as sm\n",
    "import statsmodels.formula.api as smf\n",
    "import plotnine as pn \n",
    "import os"
   ]
  },
  {
   "cell_type": "markdown",
   "metadata": {},
   "source": [
    "Download FBI crime data"
   ]
  },
  {
   "cell_type": "code",
   "execution_count": 19,
   "metadata": {},
   "outputs": [
    {
     "name": "stdout",
     "output_type": "stream",
     "text": [
      "c:/Users/David Ryan/Desktop/Dave/R_Projects/FBI_Crime/FBI_Crime/2009_2010.xls\n",
      "False\n",
      "c:/Users/David Ryan/Desktop/Dave/R_Projects/FBI_Crime/FBI_Crime/2011_2012.xls\n",
      "False\n",
      "c:/Users/David Ryan/Desktop/Dave/R_Projects/FBI_Crime/FBI_Crime/2013_2014.xls\n",
      "False\n",
      "c:/Users/David Ryan/Desktop/Dave/R_Projects/FBI_Crime/FBI_Crime/2015_2016.xls\n",
      "False\n",
      "c:/Users/David Ryan/Desktop/Dave/R_Projects/FBI_Crime/FBI_Crime/2017_2018.xls\n",
      "False\n",
      "c:/Users/David Ryan/Desktop/Dave/R_Projects/FBI_Crime/FBI_Crime/2019.xls\n",
      "False\n"
     ]
    }
   ],
   "source": [
    "# each xls sheet has that year and the previous year. Download 2010, 2012, 2014, 2016. 2018, 2019\n",
    "urls = ['https://ucr.fbi.gov/crime-in-the-u.s/2010/crime-in-the-u.s.-2010/tables/10tbl04.xls/output.xls',\n",
    "'https://ucr.fbi.gov/crime-in-the-u.s/2012/crime-in-the-u.s.-2012/tables/4tabledatadecoverviewpdf/table_4_crime_in_the_united_states_by_region_geographic_division_and_state_2011-2012.xls/output.xls',\n",
    "'https://ucr.fbi.gov/crime-in-the-u.s/2014/crime-in-the-u.s.-2014/tables/table-4/table_4_crime_in_the_united_states_by_region_geographic_division_and_state_2013-2014.xls/output.xls',\n",
    "'https://ucr.fbi.gov/crime-in-the-u.s/2016/crime-in-the-u.s.-2016/tables/table-2/table-2.xls/output.xls',\n",
    "'https://ucr.fbi.gov/crime-in-the-u.s/2018/crime-in-the-u.s.-2018/tables/table-4/table-4.xls/output.xls',\n",
    "'https://ucr.fbi.gov/crime-in-the-u.s/2019/crime-in-the-u.s.-2019/tables/table-4/table-4.xls/output.xls']\n",
    "\n",
    "Crime_datasets = ['2009_2010.xls', '2011_2012.xls', '2013_2014.xls', '2015_2016.xls', '2017_2018.xls', '2019.xls']\n",
    "#exists(Crime_datasets[0])\n",
    "cwd = os.getcwd()\n",
    "cwd = cwd.replace(os.sep, '/')\n",
    "\n",
    "for i in range(0, len(Crime_datasets)):\n",
    "  print(cwd + \"/\" +Crime_datasets[i])\n",
    "  print(os.path.exists(cwd + \"/\" + Crime_datasets[i]))\n",
    "#   download.file(urls[i], Crime.datasets[i], mode = 'wb') # download xls from FBI website\n",
    "\n"
   ]
  },
  {
   "cell_type": "code",
   "execution_count": null,
   "metadata": {},
   "outputs": [],
   "source": []
  }
 ],
 "metadata": {
  "interpreter": {
   "hash": "37704df8535475c2c6054d42712b99d9f7dd45a144661de1627a38f8013335cf"
  },
  "kernelspec": {
   "display_name": "Python 3.10.2 64-bit",
   "language": "python",
   "name": "python3"
  },
  "language_info": {
   "codemirror_mode": {
    "name": "ipython",
    "version": 3
   },
   "file_extension": ".py",
   "mimetype": "text/x-python",
   "name": "python",
   "nbconvert_exporter": "python",
   "pygments_lexer": "ipython3",
   "version": "3.10.2"
  },
  "orig_nbformat": 4
 },
 "nbformat": 4,
 "nbformat_minor": 2
}
