{
 "cells": [
  {
   "cell_type": "code",
   "execution_count": 69,
   "metadata": {},
   "outputs": [],
   "source": [
    "import pandas as pd\n",
    "import numpy as np\n",
    "import statsmodels.api as sm\n",
    "import statsmodels.formula.api as smf\n",
    "import plotnine as pn \n",
    "import os\n",
    "import wget"
   ]
  },
  {
   "cell_type": "markdown",
   "metadata": {},
   "source": [
    "Download FBI crime data"
   ]
  },
  {
   "cell_type": "code",
   "execution_count": 70,
   "metadata": {},
   "outputs": [
    {
     "name": "stdout",
     "output_type": "stream",
     "text": [
      "c:/Users/David Ryan/Desktop/Dave/R_Projects/FBI_Crime/2009_2010.xls\n",
      "valid\n",
      "c:/Users/David Ryan/Desktop/Dave/R_Projects/FBI_Crime/2011_2012.xls\n",
      "valid\n",
      "c:/Users/David Ryan/Desktop/Dave/R_Projects/FBI_Crime/2013_2014.xls\n",
      "valid\n",
      "c:/Users/David Ryan/Desktop/Dave/R_Projects/FBI_Crime/2015_2016.xls\n",
      "valid\n",
      "c:/Users/David Ryan/Desktop/Dave/R_Projects/FBI_Crime/2017_2018.xls\n",
      "valid\n",
      "c:/Users/David Ryan/Desktop/Dave/R_Projects/FBI_Crime/2019.xls\n",
      "valid\n"
     ]
    }
   ],
   "source": [
    "# each xls sheet has that year and the previous year. Download 2010, 2012, 2014, 2016. 2018, 2019\n",
    "urls = ['https://ucr.fbi.gov/crime-in-the-u.s/2010/crime-in-the-u.s.-2010/tables/10tbl04.xls/output.xls',\n",
    "'https://ucr.fbi.gov/crime-in-the-u.s/2012/crime-in-the-u.s.-2012/tables/4tabledatadecoverviewpdf/table_4_crime_in_the_united_states_by_region_geographic_division_and_state_2011-2012.xls/output.xls',\n",
    "'https://ucr.fbi.gov/crime-in-the-u.s/2014/crime-in-the-u.s.-2014/tables/table-4/table_4_crime_in_the_united_states_by_region_geographic_division_and_state_2013-2014.xls/output.xls',\n",
    "'https://ucr.fbi.gov/crime-in-the-u.s/2016/crime-in-the-u.s.-2016/tables/table-2/table-2.xls/output.xls',\n",
    "'https://ucr.fbi.gov/crime-in-the-u.s/2018/crime-in-the-u.s.-2018/tables/table-4/table-4.xls/output.xls',\n",
    "'https://ucr.fbi.gov/crime-in-the-u.s/2019/crime-in-the-u.s.-2019/tables/table-4/table-4.xls/output.xls']\n",
    "\n",
    "# name of each xls sheet\n",
    "Crime_datasets = ['2009_2010.xls', '2011_2012.xls', '2013_2014.xls', '2015_2016.xls', '2017_2018.xls', '2019.xls']\n",
    "# get working dir and change back slash to forward slash\n",
    "cwd = os.getcwd()\n",
    "cwd = cwd.replace(os.sep, '/')\n",
    "\n",
    "for i in range(0, len(Crime_datasets)):\n",
    "  print(cwd + \"/\" +Crime_datasets[i])\n",
    "  if os.path.exists(cwd + \"/\" + Crime_datasets[i]):\n",
    "    print('valid')\n",
    "  else:\n",
    "    print('Download the FBI crime dataset for ' + Crime_datasets[i])\n",
    "    print('Dataset is not longer at '+ urls[i])\n",
    "      # requested = wget.download(urls[i], Crime_datasets[i])\n"
   ]
  },
  {
   "cell_type": "markdown",
   "metadata": {},
   "source": [
    "Merge FBI data across years and standardize column names"
   ]
  },
  {
   "cell_type": "code",
   "execution_count": null,
   "metadata": {},
   "outputs": [],
   "source": [
    "for i in range(0,len(Crime_datasets)):\n",
    "  # empty df\n",
    "  Crime_raw = pd.DataFrame()\n",
    "  #read in xls\n",
    "  Crime_raw = pd.DataFrame(pd.read_excel(Crime_datasets[i], skiprows= 3))\n",
    "  # remove empty columns, needs 10 NaNs to drop\n",
    "  Crime_raw.dropna(axis = 1, thresh= 10, inplace=True)\n",
    "  # rename col names for consistancy \n",
    "  ColNames = list(Crime_raw.columns)\n",
    "  Col_fix = [ii for ii in ColNames if ii.startswith('Pop')]\n",
    "  Crime_raw.rename(columns = {Col_fix[0] : 'Population'}, inplace=True)\n",
    "  \n",
    "  Col_fix = [ii for ii in ColNames if ii.startswith('Murder')]\n",
    "  Crime_raw.rename(columns = {Col_fix[0] : 'Murder'}, inplace=True)\n",
    "  \n",
    "  Col_fix = [ii for ii in ColNames if ii.startswith('Violent')]\n",
    "  Crime_raw.rename(columns = {Col_fix[0] : 'Violent_Crime'}, inplace=True)\n",
    "  \n",
    "  Col_fix = [ii for ii in ColNames if ii.endswith('(revised definition)4')]\n",
    "  if len(Col_fix) > 0: \n",
    "    Crime_raw.rename(columns = {Col_fix[0] : 'Revised_Rape'}, inplace=True)\n",
    "  \n",
    "  Col_fix = [ii for ii in ColNames if ii.endswith('(legacy definition)5')]\n",
    "  if len(Col_fix) > 0: \n",
    "    Crime_raw.rename(columns = {Col_fix[0] : 'Rape'}, inplace=True)\n",
    "  \n",
    "  Col_fix = [ii for ii in ColNames if ii.startswith('Forcible')]\n",
    "  if len(Col_fix) > 0: \n",
    "    Crime_raw.rename(columns = {Col_fix[0] : 'Rape'}, inplace=True)\n",
    "\n",
    "  ColNames = list(Crime_raw.columns)\n",
    "  \n",
    "\n",
    "  \n",
    "\n",
    "  display(Crime_raw.head(15))\n"
   ]
  },
  {
   "cell_type": "code",
   "execution_count": 89,
   "metadata": {},
   "outputs": [
    {
     "ename": "TypeError",
     "evalue": "Index(...) must be called with a collection of some kind, 'Unn' was passed",
     "output_type": "error",
     "traceback": [
      "\u001b[1;31m---------------------------------------------------------------------------\u001b[0m",
      "\u001b[1;31mTypeError\u001b[0m                                 Traceback (most recent call last)",
      "\u001b[1;32mc:\\Users\\David Ryan\\Desktop\\Dave\\R_Projects\\FBI_Crime\\P_FBI_Crime.ipynb Cell 6'\u001b[0m in \u001b[0;36m<cell line: 3>\u001b[1;34m()\u001b[0m\n\u001b[0;32m      <a href='vscode-notebook-cell:/c%3A/Users/David%20Ryan/Desktop/Dave/R_Projects/FBI_Crime/P_FBI_Crime.ipynb#ch0000006?line=0'>1</a>\u001b[0m \u001b[39m# loop: find every column starts with Unnamed\u001b[39;00m\n\u001b[0;32m      <a href='vscode-notebook-cell:/c%3A/Users/David%20Ryan/Desktop/Dave/R_Projects/FBI_Crime/P_FBI_Crime.ipynb#ch0000006?line=1'>2</a>\u001b[0m \u001b[39m#Crime_raw.columns.str.startswith('Unn')\u001b[39;00m\n\u001b[1;32m----> <a href='vscode-notebook-cell:/c%3A/Users/David%20Ryan/Desktop/Dave/R_Projects/FBI_Crime/P_FBI_Crime.ipynb#ch0000006?line=2'>3</a>\u001b[0m Crime_raw\u001b[39m.\u001b[39;49mcolumns\u001b[39m.\u001b[39;49mget_indexer(\u001b[39m'\u001b[39;49m\u001b[39mUnn\u001b[39;49m\u001b[39m'\u001b[39;49m)\n",
      "File \u001b[1;32mc:\\Users\\David Ryan\\AppData\\Local\\Programs\\Python\\Python310\\lib\\site-packages\\pandas\\core\\indexes\\base.py:3716\u001b[0m, in \u001b[0;36mIndex.get_indexer\u001b[1;34m(self, target, method, limit, tolerance)\u001b[0m\n\u001b[0;32m   <a href='file:///c%3A/Users/David%20Ryan/AppData/Local/Programs/Python/Python310/lib/site-packages/pandas/core/indexes/base.py?line=3705'>3706</a>\u001b[0m \u001b[39m@Appender\u001b[39m(_index_shared_docs[\u001b[39m\"\u001b[39m\u001b[39mget_indexer\u001b[39m\u001b[39m\"\u001b[39m] \u001b[39m%\u001b[39m _index_doc_kwargs)\n\u001b[0;32m   <a href='file:///c%3A/Users/David%20Ryan/AppData/Local/Programs/Python/Python310/lib/site-packages/pandas/core/indexes/base.py?line=3706'>3707</a>\u001b[0m \u001b[39m@final\u001b[39m\n\u001b[0;32m   <a href='file:///c%3A/Users/David%20Ryan/AppData/Local/Programs/Python/Python310/lib/site-packages/pandas/core/indexes/base.py?line=3707'>3708</a>\u001b[0m \u001b[39mdef\u001b[39;00m \u001b[39mget_indexer\u001b[39m(\n\u001b[1;32m   (...)\u001b[0m\n\u001b[0;32m   <a href='file:///c%3A/Users/David%20Ryan/AppData/Local/Programs/Python/Python310/lib/site-packages/pandas/core/indexes/base.py?line=3712'>3713</a>\u001b[0m     tolerance\u001b[39m=\u001b[39m\u001b[39mNone\u001b[39;00m,\n\u001b[0;32m   <a href='file:///c%3A/Users/David%20Ryan/AppData/Local/Programs/Python/Python310/lib/site-packages/pandas/core/indexes/base.py?line=3713'>3714</a>\u001b[0m ) \u001b[39m-\u001b[39m\u001b[39m>\u001b[39m npt\u001b[39m.\u001b[39mNDArray[np\u001b[39m.\u001b[39mintp]:\n\u001b[0;32m   <a href='file:///c%3A/Users/David%20Ryan/AppData/Local/Programs/Python/Python310/lib/site-packages/pandas/core/indexes/base.py?line=3714'>3715</a>\u001b[0m     method \u001b[39m=\u001b[39m missing\u001b[39m.\u001b[39mclean_reindex_fill_method(method)\n\u001b[1;32m-> <a href='file:///c%3A/Users/David%20Ryan/AppData/Local/Programs/Python/Python310/lib/site-packages/pandas/core/indexes/base.py?line=3715'>3716</a>\u001b[0m     target \u001b[39m=\u001b[39m \u001b[39mself\u001b[39;49m\u001b[39m.\u001b[39;49m_maybe_cast_listlike_indexer(target)\n\u001b[0;32m   <a href='file:///c%3A/Users/David%20Ryan/AppData/Local/Programs/Python/Python310/lib/site-packages/pandas/core/indexes/base.py?line=3717'>3718</a>\u001b[0m     \u001b[39mself\u001b[39m\u001b[39m.\u001b[39m_check_indexing_method(method, limit, tolerance)\n\u001b[0;32m   <a href='file:///c%3A/Users/David%20Ryan/AppData/Local/Programs/Python/Python310/lib/site-packages/pandas/core/indexes/base.py?line=3719'>3720</a>\u001b[0m     \u001b[39mif\u001b[39;00m \u001b[39mnot\u001b[39;00m \u001b[39mself\u001b[39m\u001b[39m.\u001b[39m_index_as_unique:\n",
      "File \u001b[1;32mc:\\Users\\David Ryan\\AppData\\Local\\Programs\\Python\\Python310\\lib\\site-packages\\pandas\\core\\indexes\\base.py:6297\u001b[0m, in \u001b[0;36mIndex._maybe_cast_listlike_indexer\u001b[1;34m(self, target)\u001b[0m\n\u001b[0;32m   <a href='file:///c%3A/Users/David%20Ryan/AppData/Local/Programs/Python/Python310/lib/site-packages/pandas/core/indexes/base.py?line=6292'>6293</a>\u001b[0m \u001b[39mdef\u001b[39;00m \u001b[39m_maybe_cast_listlike_indexer\u001b[39m(\u001b[39mself\u001b[39m, target) \u001b[39m-\u001b[39m\u001b[39m>\u001b[39m Index:\n\u001b[0;32m   <a href='file:///c%3A/Users/David%20Ryan/AppData/Local/Programs/Python/Python310/lib/site-packages/pandas/core/indexes/base.py?line=6293'>6294</a>\u001b[0m     \u001b[39m\"\"\"\u001b[39;00m\n\u001b[0;32m   <a href='file:///c%3A/Users/David%20Ryan/AppData/Local/Programs/Python/Python310/lib/site-packages/pandas/core/indexes/base.py?line=6294'>6295</a>\u001b[0m \u001b[39m    Analogue to maybe_cast_indexer for get_indexer instead of get_loc.\u001b[39;00m\n\u001b[0;32m   <a href='file:///c%3A/Users/David%20Ryan/AppData/Local/Programs/Python/Python310/lib/site-packages/pandas/core/indexes/base.py?line=6295'>6296</a>\u001b[0m \u001b[39m    \"\"\"\u001b[39;00m\n\u001b[1;32m-> <a href='file:///c%3A/Users/David%20Ryan/AppData/Local/Programs/Python/Python310/lib/site-packages/pandas/core/indexes/base.py?line=6296'>6297</a>\u001b[0m     \u001b[39mreturn\u001b[39;00m ensure_index(target)\n",
      "File \u001b[1;32mc:\\Users\\David Ryan\\AppData\\Local\\Programs\\Python\\Python310\\lib\\site-packages\\pandas\\core\\indexes\\base.py:7043\u001b[0m, in \u001b[0;36mensure_index\u001b[1;34m(index_like, copy)\u001b[0m\n\u001b[0;32m   <a href='file:///c%3A/Users/David%20Ryan/AppData/Local/Programs/Python/Python310/lib/site-packages/pandas/core/indexes/base.py?line=7040'>7041</a>\u001b[0m         \u001b[39mreturn\u001b[39;00m Index\u001b[39m.\u001b[39m_with_infer(index_like, copy\u001b[39m=\u001b[39mcopy, tupleize_cols\u001b[39m=\u001b[39m\u001b[39mFalse\u001b[39;00m)\n\u001b[0;32m   <a href='file:///c%3A/Users/David%20Ryan/AppData/Local/Programs/Python/Python310/lib/site-packages/pandas/core/indexes/base.py?line=7041'>7042</a>\u001b[0m \u001b[39melse\u001b[39;00m:\n\u001b[1;32m-> <a href='file:///c%3A/Users/David%20Ryan/AppData/Local/Programs/Python/Python310/lib/site-packages/pandas/core/indexes/base.py?line=7042'>7043</a>\u001b[0m     \u001b[39mreturn\u001b[39;00m Index\u001b[39m.\u001b[39;49m_with_infer(index_like, copy\u001b[39m=\u001b[39;49mcopy)\n",
      "File \u001b[1;32mc:\\Users\\David Ryan\\AppData\\Local\\Programs\\Python\\Python310\\lib\\site-packages\\pandas\\core\\indexes\\base.py:680\u001b[0m, in \u001b[0;36mIndex._with_infer\u001b[1;34m(cls, *args, **kwargs)\u001b[0m\n\u001b[0;32m    <a href='file:///c%3A/Users/David%20Ryan/AppData/Local/Programs/Python/Python310/lib/site-packages/pandas/core/indexes/base.py?line=677'>678</a>\u001b[0m \u001b[39mwith\u001b[39;00m warnings\u001b[39m.\u001b[39mcatch_warnings():\n\u001b[0;32m    <a href='file:///c%3A/Users/David%20Ryan/AppData/Local/Programs/Python/Python310/lib/site-packages/pandas/core/indexes/base.py?line=678'>679</a>\u001b[0m     warnings\u001b[39m.\u001b[39mfilterwarnings(\u001b[39m\"\u001b[39m\u001b[39mignore\u001b[39m\u001b[39m\"\u001b[39m, \u001b[39m\"\u001b[39m\u001b[39m.*the Index constructor\u001b[39m\u001b[39m\"\u001b[39m, \u001b[39mFutureWarning\u001b[39;00m)\n\u001b[1;32m--> <a href='file:///c%3A/Users/David%20Ryan/AppData/Local/Programs/Python/Python310/lib/site-packages/pandas/core/indexes/base.py?line=679'>680</a>\u001b[0m     result \u001b[39m=\u001b[39m \u001b[39mcls\u001b[39m(\u001b[39m*\u001b[39margs, \u001b[39m*\u001b[39m\u001b[39m*\u001b[39mkwargs)\n\u001b[0;32m    <a href='file:///c%3A/Users/David%20Ryan/AppData/Local/Programs/Python/Python310/lib/site-packages/pandas/core/indexes/base.py?line=681'>682</a>\u001b[0m \u001b[39mif\u001b[39;00m result\u001b[39m.\u001b[39mdtype \u001b[39m==\u001b[39m _dtype_obj \u001b[39mand\u001b[39;00m \u001b[39mnot\u001b[39;00m result\u001b[39m.\u001b[39m_is_multi:\n\u001b[0;32m    <a href='file:///c%3A/Users/David%20Ryan/AppData/Local/Programs/Python/Python310/lib/site-packages/pandas/core/indexes/base.py?line=682'>683</a>\u001b[0m     \u001b[39m# error: Argument 1 to \"maybe_convert_objects\" has incompatible type\u001b[39;00m\n\u001b[0;32m    <a href='file:///c%3A/Users/David%20Ryan/AppData/Local/Programs/Python/Python310/lib/site-packages/pandas/core/indexes/base.py?line=683'>684</a>\u001b[0m     \u001b[39m# \"Union[ExtensionArray, ndarray[Any, Any]]\"; expected\u001b[39;00m\n\u001b[0;32m    <a href='file:///c%3A/Users/David%20Ryan/AppData/Local/Programs/Python/Python310/lib/site-packages/pandas/core/indexes/base.py?line=684'>685</a>\u001b[0m     \u001b[39m# \"ndarray[Any, Any]\"\u001b[39;00m\n\u001b[0;32m    <a href='file:///c%3A/Users/David%20Ryan/AppData/Local/Programs/Python/Python310/lib/site-packages/pandas/core/indexes/base.py?line=685'>686</a>\u001b[0m     values \u001b[39m=\u001b[39m lib\u001b[39m.\u001b[39mmaybe_convert_objects(result\u001b[39m.\u001b[39m_values)  \u001b[39m# type: ignore[arg-type]\u001b[39;00m\n",
      "File \u001b[1;32mc:\\Users\\David Ryan\\AppData\\Local\\Programs\\Python\\Python310\\lib\\site-packages\\pandas\\core\\indexes\\base.py:508\u001b[0m, in \u001b[0;36mIndex.__new__\u001b[1;34m(cls, data, dtype, copy, name, tupleize_cols, **kwargs)\u001b[0m\n\u001b[0;32m    <a href='file:///c%3A/Users/David%20Ryan/AppData/Local/Programs/Python/Python310/lib/site-packages/pandas/core/indexes/base.py?line=504'>505</a>\u001b[0m     \u001b[39mreturn\u001b[39;00m klass\u001b[39m.\u001b[39m_simple_new(arr, name)\n\u001b[0;32m    <a href='file:///c%3A/Users/David%20Ryan/AppData/Local/Programs/Python/Python310/lib/site-packages/pandas/core/indexes/base.py?line=506'>507</a>\u001b[0m \u001b[39melif\u001b[39;00m is_scalar(data):\n\u001b[1;32m--> <a href='file:///c%3A/Users/David%20Ryan/AppData/Local/Programs/Python/Python310/lib/site-packages/pandas/core/indexes/base.py?line=507'>508</a>\u001b[0m     \u001b[39mraise\u001b[39;00m \u001b[39mcls\u001b[39m\u001b[39m.\u001b[39m_scalar_data_error(data)\n\u001b[0;32m    <a href='file:///c%3A/Users/David%20Ryan/AppData/Local/Programs/Python/Python310/lib/site-packages/pandas/core/indexes/base.py?line=508'>509</a>\u001b[0m \u001b[39melif\u001b[39;00m \u001b[39mhasattr\u001b[39m(data, \u001b[39m\"\u001b[39m\u001b[39m__array__\u001b[39m\u001b[39m\"\u001b[39m):\n\u001b[0;32m    <a href='file:///c%3A/Users/David%20Ryan/AppData/Local/Programs/Python/Python310/lib/site-packages/pandas/core/indexes/base.py?line=509'>510</a>\u001b[0m     \u001b[39mreturn\u001b[39;00m Index(np\u001b[39m.\u001b[39masarray(data), dtype\u001b[39m=\u001b[39mdtype, copy\u001b[39m=\u001b[39mcopy, name\u001b[39m=\u001b[39mname, \u001b[39m*\u001b[39m\u001b[39m*\u001b[39mkwargs)\n",
      "\u001b[1;31mTypeError\u001b[0m: Index(...) must be called with a collection of some kind, 'Unn' was passed"
     ]
    }
   ],
   "source": [
    "# loop: find every column starts with Unnamed\n",
    "#Crime_raw.columns.str.startswith('Unn')\n",
    "Crime_raw.columns.get_indexer('Unn')\n",
    "# Col_fix = [ii for ii in ColNames if ii.startswith('Unn')]\n",
    "# print(ColNames.get_loc(Col_fix))\n",
    "\n",
    "## From R: \n",
    "#   for (col.i in seq_along(col.names)) {\n",
    "#     if (startsWith(col.names[col.i], prefix = '..')){ # rename cols that start with '..' to _Per100k'\n",
    "#       col.names[col.i] = paste0(col.names[col.i -1], '_Per100k')\n",
    "#       }\n",
    "#     }\n",
    "\n",
    "\n",
    "\n",
    "\n",
    "# combine col to left name with row 0\n",
    "\n",
    "# rename colname \n",
    "\n",
    "\n",
    "#   #rename columns leading with '..#'\n",
    "#   # find col with Name\n",
    "#   col.names = colnames(Crime.raw)\n",
    "#   for (col.i in seq_along(col.names)) {\n",
    "#     if (startsWith(col.names[col.i], prefix = '..')){ # rename cols that start with '..' to _Per100k'\n",
    "#       col.names[col.i] = paste0(col.names[col.i -1], '_Per100k')\n",
    "#       }\n",
    "#     }\n",
    "#   setnames(Crime.raw, names(Crime.raw),  col.names) # rename \n",
    "  \n",
    "#   # remove extra cols if any\n",
    "#   rm.col=  !endsWith(colnames(Crime.raw), suffix = '_Per100k_Per100k') # extra cols will have extra per100k\n",
    "#   Crime.raw = Crime.raw[,..rm.col]# remove cols\n",
    "  \n",
    "#   #remove cols of raw numbers, leave per100k for comparisons across states\n",
    "#   rm.col = endsWith(colnames(Crime.raw), suffix = '_Per100k')\n",
    "#   rm.col[1:3] = TRUE # keep first 3 rows of Area, year and population \n",
    "#   Crime.raw = Crime.raw[,..rm.col]\n",
    "#   # Remove numbers  and comma from Area\n",
    "#   Crime.raw$Area = gsub('[0-9]', '', Crime.raw$Area)\n",
    "#   Crime.raw$Area = gsub(',', '', Crime.raw$Area)\n",
    "\n",
    "#   # edit rows:\n",
    "#   Crime.raw = Crime.raw[Year != 'Percent change']# remove percent change rows\n",
    "  \n",
    "#   # If Area name is NA, rename it to row above\n",
    "#   for (ii in 1:Crime.raw[,.N]) {\n",
    "#       if (is.na(Crime.raw[ii, 1])){\n",
    "#       Crime.raw[ii, 1] = Crime.raw[ii-1, 1]\n",
    "#     }\n",
    "#   }\n",
    "#     two.years = unique(Crime.raw$Year)\n",
    "#   if (two.years[1] == '2018'){\n",
    "#     Crime.raw = Crime.raw[Year == '2019']\n",
    "#   }    \n",
    "\n",
    "#   # change to numeric\n",
    "#   Crime.raw[,2:ncol(Crime.raw)] = as.data.table(sapply(Crime.raw[,2:ncol(Crime.raw)], as.numeric))\n",
    "  \n",
    "#   # Round each col,\n",
    "#     Crime.raw %>% mutate_if(is.numeric, ~round(., digit = 2))  \n",
    "#   # Make List by year\n",
    "#   # Year.crime[[two.years[1]]] = Crime.raw[Year == two.years[1]]\n",
    "#   # Year.crime[[two.years[2]]] = Crime.raw[Year == two.years[2]]\n",
    "  \n",
    "#   if (i ==1){\n",
    "#     Crime = Crime.raw\n",
    "#   }else{\n",
    "#     if(sum(colnames(Crime.raw) == 'Rape_Per100k') == 0){\n",
    "#        Crime = merge.data.table(Crime, Crime.raw, by = colnames(Crime.raw), all = TRUE)\n",
    "#     }else{\n",
    "#     Crime = merge.data.table(Crime, Crime.raw, by = colnames(Crime), all = TRUE)\n",
    "#     setdiff (colnames(Crime), colnames(Crime.raw))\n",
    "#     setdiff (colnames(Crime.raw), colnames(Crime))\n",
    "#     }\n",
    "#   }\n",
    "#  }\n",
    "\n",
    "# rm(Crime.raw)\n"
   ]
  },
  {
   "cell_type": "markdown",
   "metadata": {},
   "source": []
  }
 ],
 "metadata": {
  "interpreter": {
   "hash": "37704df8535475c2c6054d42712b99d9f7dd45a144661de1627a38f8013335cf"
  },
  "kernelspec": {
   "display_name": "Python 3.10.2 64-bit",
   "language": "python",
   "name": "python3"
  },
  "language_info": {
   "codemirror_mode": {
    "name": "ipython",
    "version": 3
   },
   "file_extension": ".py",
   "mimetype": "text/x-python",
   "name": "python",
   "nbconvert_exporter": "python",
   "pygments_lexer": "ipython3",
   "version": "3.10.2"
  },
  "orig_nbformat": 4
 },
 "nbformat": 4,
 "nbformat_minor": 2
}
